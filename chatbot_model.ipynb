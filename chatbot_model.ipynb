{
 "cells": [
  {
   "cell_type": "code",
   "execution_count": 4,
   "id": "a224bdc8-fae7-4309-a237-f836da61096a",
   "metadata": {},
   "outputs": [
    {
     "name": "stderr",
     "output_type": "stream",
     "text": [
      "\n",
      "[notice] A new release of pip available: 22.3 -> 24.3.1\n",
      "[notice] To update, run: python.exe -m pip install --upgrade pip\n"
     ]
    }
   ],
   "source": [
    "!pip install tflearn -q"
   ]
  },
  {
   "cell_type": "code",
   "execution_count": 10,
   "id": "e3420d30-5d14-4161-ab18-90afc39af067",
   "metadata": {},
   "outputs": [
    {
     "name": "stderr",
     "output_type": "stream",
     "text": [
      "[nltk_data] Downloading package punkt to\n",
      "[nltk_data]     C:\\Users\\nanik\\AppData\\Roaming\\nltk_data...\n",
      "[nltk_data]   Package punkt is already up-to-date!\n"
     ]
    },
    {
     "name": "stdout",
     "output_type": "stream",
     "text": [
      "Scipy not supported!\n"
     ]
    }
   ],
   "source": [
    "import nltk\n",
    "nltk.download('punkt')\n",
    "from nltk.stem.lancaster import LancasterStemmer\n",
    "stemmer = LancasterStemmer()\n",
    "import numpy as np\n",
    "import tflearn\n",
    "import tensorflow as tf\n",
    "import random\n",
    "import json\n",
    "import pickle"
   ]
  },
  {
   "cell_type": "code",
   "execution_count": 15,
   "id": "259fdf95-7257-4ca5-91b2-b737a2c430e8",
   "metadata": {},
   "outputs": [],
   "source": [
    "with open('../jsondata/intents.json') as f:\n",
    "    data = json.load(f)"
   ]
  },
  {
   "cell_type": "code",
   "execution_count": 27,
   "id": "e8192a32-32d2-463d-b3e2-65a678a510ae",
   "metadata": {},
   "outputs": [
    {
     "name": "stderr",
     "output_type": "stream",
     "text": [
      "[nltk_data] Downloading package punkt_tab to\n",
      "[nltk_data]     C:\\Users\\nanik\\AppData\\Roaming\\nltk_data...\n",
      "[nltk_data]   Unzipping tokenizers\\punkt_tab.zip.\n"
     ]
    },
    {
     "data": {
      "text/plain": [
       "True"
      ]
     },
     "execution_count": 27,
     "metadata": {},
     "output_type": "execute_result"
    }
   ],
   "source": [
    "import nltk\n",
    "nltk.download('punkt_tab')"
   ]
  },
  {
   "cell_type": "code",
   "execution_count": 28,
   "id": "7067c969-1483-4b65-80ac-8c946be7173c",
   "metadata": {},
   "outputs": [
    {
     "name": "stdout",
     "output_type": "stream",
     "text": [
      "['Hello', ',', 'how', 'are', 'you', '?']\n"
     ]
    }
   ],
   "source": [
    "from nltk.tokenize import word_tokenize\n",
    "print(word_tokenize(\"Hello, how are you?\"))\n"
   ]
  },
  {
   "cell_type": "code",
   "execution_count": 29,
   "id": "e5adca6f-e0cc-4270-bac1-663bb11419a1",
   "metadata": {},
   "outputs": [],
   "source": [
    "words = []\n",
    "labels = []\n",
    "docs_x = []\n",
    "docs_y = []\n",
    "\n",
    "for intent in data[\"intents\"]:\n",
    "  for pattern in intent[\"patterns\"]:\n",
    "    wrds = nltk.word_tokenize(pattern)\n",
    "    words.extend(wrds)\n",
    "    docs_x.append(wrds)\n",
    "    docs_y.append(intent[\"tag\"])\n"
   ]
  },
  {
   "cell_type": "code",
   "execution_count": 30,
   "id": "fc1b809c-0861-4c6b-944b-782915ff7923",
   "metadata": {},
   "outputs": [
    {
     "name": "stdout",
     "output_type": "stream",
     "text": [
      "WARNING:tensorflow:From C:\\Users\\nanik\\AppData\\Local\\Programs\\Python\\Python311\\Lib\\site-packages\\tflearn\\initializations.py:164: calling TruncatedNormal.__init__ (from tensorflow.python.ops.init_ops) with dtype is deprecated and will be removed in a future version.\n",
      "Instructions for updating:\n",
      "Call initializer instance with the dtype argument instead of passing it to the constructor\n",
      "WARNING:tensorflow:From C:\\Users\\nanik\\AppData\\Local\\Programs\\Python\\Python311\\Lib\\site-packages\\tflearn\\optimizers.py:238: The name tf.train.AdamOptimizer is deprecated. Please use tf.compat.v1.train.AdamOptimizer instead.\n",
      "\n"
     ]
    }
   ],
   "source": [
    "words = []\n",
    "labels = []\n",
    "docs_x = []\n",
    "docs_y = []\n",
    "\n",
    "for intent in data[\"intents\"]:\n",
    "  for pattern in intent[\"patterns\"]:\n",
    "    wrds = nltk.word_tokenize(pattern)\n",
    "    words.extend(wrds)\n",
    "    docs_x.append(wrds)\n",
    "    docs_y.append(intent[\"tag\"])\n",
    "\n",
    "\n",
    "  if intent[\"tag\"] not in labels:\n",
    "    labels.append(intent[\"tag\"])  \n",
    "\n",
    "words = [stemmer.stem(w.lower()) for w in words if  w not in \"?\"]\n",
    "words = sorted(list(set(words)))\n",
    "\n",
    "labels = sorted(labels)\n",
    "\n",
    "training = []\n",
    "output = []\n",
    "\n",
    "out_empty = [0 for _ in range(len(labels))]\n",
    "\n",
    "for x,doc in enumerate(docs_x):\n",
    "  bag = []\n",
    "  wrds = [stemmer.stem(w) for w in doc]\n",
    "\n",
    "  for w in words:\n",
    "    if w in wrds:\n",
    "      bag.append(1)\n",
    "    else:\n",
    "      bag.append(0)\n",
    "\n",
    "  output_row = out_empty[:]\n",
    "  output_row[labels.index(docs_y[x])] = 1\n",
    "\n",
    "  training.append(bag)\n",
    "  output.append(output_row)\n",
    "\n",
    "training = np.array(training)\n",
    "output = np.array(output)\n",
    "\n",
    "tf.compat.v1.reset_default_graph()\n",
    "\n",
    "net = tflearn.input_data(shape=[None, len(training[0])])\n",
    "net = tflearn.fully_connected(net, 8)\n",
    "net = tflearn.fully_connected(net, 8)\n",
    "net = tflearn.fully_connected(net, len(output[0]), activation = \"softmax\")\n",
    "net = tflearn.regression(net)\n",
    "\n",
    "model = tflearn.DNN(net)"
   ]
  },
  {
   "cell_type": "code",
   "execution_count": 31,
   "id": "c2b3fb6a-9ee0-4a27-bb29-a0b701f57d44",
   "metadata": {},
   "outputs": [
    {
     "name": "stdout",
     "output_type": "stream",
     "text": [
      "Training Step: 23999  | total loss: \u001b[1m\u001b[32m0.00037\u001b[0m\u001b[0m | time: 0.028s\n",
      "| Adam | epoch: 1000 | loss: 0.00037 - acc: 1.0000 -- iter: 184/188\n",
      "Training Step: 24000  | total loss: \u001b[1m\u001b[32m0.00036\u001b[0m\u001b[0m | time: 0.028s\n",
      "| Adam | epoch: 1000 | loss: 0.00036 - acc: 1.0000 -- iter: 188/188\n",
      "--\n",
      "INFO:tensorflow:C:\\Users\\nanik\\Desktop\\Karthik\\kaggale\\notebooks\\model.tflearn is not in all_model_checkpoint_paths. Manually adding it.\n"
     ]
    }
   ],
   "source": [
    "model.fit(training, output, n_epoch = 1000, batch_size=8, show_metric=True)\n",
    "model.save(\"model.tflearn\")"
   ]
  },
  {
   "cell_type": "code",
   "execution_count": 32,
   "id": "d898a672-3b1c-4bba-81dc-53d8eee215f8",
   "metadata": {},
   "outputs": [],
   "source": [
    "def bag_of_words(s, words):\n",
    "  bag = [0 for _ in range(len(words))]\n",
    "\n",
    "  s_words = nltk.word_tokenize(s)\n",
    "  s_words = [stemmer.stem(word.lower()) for word in s_words]\n",
    "\n",
    "  for se in s_words:\n",
    "    for i, w in enumerate(words):\n",
    "      if w == se:\n",
    "        bag[i] = 1\n",
    "\n",
    "  return np.array(bag)\n",
    "\n",
    "def chat():\n",
    "  print(\"\\033[1;31m Start talking with the bot!, Type quit when you want to quit\")\n",
    "  while True:\n",
    "    inp = input(\"\\033[1;31m You: \")\n",
    "    if inp.lower() == \"quit\":\n",
    "      break\n",
    "\n",
    "    results = model.predict([bag_of_words(inp, words)])\n",
    "    results_index = np.argmax(results)\n",
    "    tag = labels[results_index]\n",
    "\n",
    "    for tg in data[\"intents\"]:\n",
    "      \n",
    "      if tg['tag'] == tag:\n",
    "        \n",
    "        responses = tg['responses']\n",
    "\n",
    "        response_list = nltk.sent_tokenize(str(responses[0]))\n",
    "        colors = [31, 32, 33, 34, 35]\n",
    "\n",
    "        for i in range(len(response_list)):\n",
    "            color_index = i % len(colors)\n",
    "            print(f'\\033[1;{colors[color_index]}m {response_list[i]:<12s}\\n')\n"
   ]
  },
  {
   "cell_type": "code",
   "execution_count": null,
   "id": "bcf8055b-049b-41cb-847c-2e2aaed2bef5",
   "metadata": {},
   "outputs": [
    {
     "name": "stdout",
     "output_type": "stream",
     "text": [
      "\u001b[1;31m Start talking with the bot!, Type quit when you want to quit\n"
     ]
    },
    {
     "name": "stdin",
     "output_type": "stream",
     "text": [
      "\u001b[1;31m You:  hii\n"
     ]
    },
    {
     "name": "stdout",
     "output_type": "stream",
     "text": [
      "\u001b[1;31m Begin with washed hands.Gently clean the area with cool to lukewarm water and mild soap.\n",
      "\n",
      "\u001b[1;32m Remove dirt or other particles from the wound using sterilized tweezers.For a mild scrape thatâ€™s not bleeding, leave the wound uncovered.If the wound is bleeding, use a clean cloth or bandage, and apply gentle pressure to the area to stop any bleeding.Cover a wound that bled with a thin layer of topical antibiotic ointment, like Bacitracin, or a sterile moisture barrier ointment, like Aquaphor.\n",
      "\n",
      "\u001b[1;33m Cover it with a clean bandage or gauze.\n",
      "\n",
      "\u001b[1;34m Gently clean the wound and change the ointment and bandage once per day.Watch the area for signs of infection, like pain or redness and swelling.\n",
      "\n",
      "\u001b[1;35m See your doctor if you suspect infection.\n",
      "\n"
     ]
    },
    {
     "name": "stdin",
     "output_type": "stream",
     "text": [
      "\u001b[1;31m You:  feeling headache\n"
     ]
    },
    {
     "name": "stdout",
     "output_type": "stream",
     "text": [
      "\u001b[1;31m Give ibuprofen (Advil, Motrin), aspirin, or acetaminophen (Tylenol) for pain.\n",
      "\n",
      "\u001b[1;32m Avoid ibuprofen and other NSAIDs if the person has heart failure or kidney failure.\n",
      "\n",
      "\u001b[1;33m Do not give aspirin to a child under age 18.\n",
      "\n"
     ]
    },
    {
     "name": "stdin",
     "output_type": "stream",
     "text": [
      "\u001b[1;31m You:  feeling clof\n"
     ]
    },
    {
     "name": "stdout",
     "output_type": "stream",
     "text": [
      "\u001b[1;31m To treat a fever at home: 1)Drink plenty of fluids to stay hydrated.\n",
      "\n",
      "\u001b[1;32m 2)Dress in lightweight clothing.\n",
      "\n",
      "\u001b[1;33m 3)Use a light blanket if you feel chilled, until the chills end.\n",
      "\n",
      "\u001b[1;34m 4)Take acetaminophen (Tylenol, others) or ibuprofen (Advil, Motrin IB, others).\n",
      "\n",
      "\u001b[1;35m 5) Get medical help if the fever lasts more than five days in a row.\n",
      "\n"
     ]
    },
    {
     "name": "stdin",
     "output_type": "stream",
     "text": [
      "\u001b[1;31m You:  feeling headache \n"
     ]
    },
    {
     "name": "stdout",
     "output_type": "stream",
     "text": [
      "\u001b[1;31m Give ibuprofen (Advil, Motrin), aspirin, or acetaminophen (Tylenol) for pain.\n",
      "\n",
      "\u001b[1;32m Avoid ibuprofen and other NSAIDs if the person has heart failure or kidney failure.\n",
      "\n",
      "\u001b[1;33m Do not give aspirin to a child under age 18.\n",
      "\n"
     ]
    },
    {
     "name": "stdin",
     "output_type": "stream",
     "text": [
      "\u001b[1;31m You:  need tablet for cold\n"
     ]
    },
    {
     "name": "stdout",
     "output_type": "stream",
     "text": [
      "\u001b[1;31m 1)Keeping hydrated is absolutely vital to help 'flush' out the cold, as well as to break down congestion and keep your throat lubricated.\n",
      "\n",
      "\u001b[1;32m 2)Vitamin C is extremely helpful when fighting infection, so at the first sign of a cold be sure to increase your intake by eating plenty of berries, citrus fruits, papayas, broccoli and red peppers which will help keep you protected.\n",
      "\n",
      "\u001b[1;33m 3)When it comes to combating a cold,Vitamin D is essential in helping to regulate immune response.\n",
      "\n"
     ]
    },
    {
     "name": "stdin",
     "output_type": "stream",
     "text": [
      "\u001b[1;31m You:  need tablet for fever\n"
     ]
    },
    {
     "name": "stdout",
     "output_type": "stream",
     "text": [
      "\u001b[1;31m To treat a fever at home: 1)Drink plenty of fluids to stay hydrated.\n",
      "\n",
      "\u001b[1;32m 2)Dress in lightweight clothing.\n",
      "\n",
      "\u001b[1;33m 3)Use a light blanket if you feel chilled, until the chills end.\n",
      "\n",
      "\u001b[1;34m 4)Take acetaminophen (Tylenol, others) or ibuprofen (Advil, Motrin IB, others).\n",
      "\n",
      "\u001b[1;35m 5) Get medical help if the fever lasts more than five days in a row.\n",
      "\n"
     ]
    }
   ],
   "source": [
    "chat()"
   ]
  },
  {
   "cell_type": "code",
   "execution_count": null,
   "id": "cf3324d0-515c-4e80-b658-2fa4b469a58b",
   "metadata": {},
   "outputs": [],
   "source": []
  }
 ],
 "metadata": {
  "kernelspec": {
   "display_name": "Python 3 (ipykernel)",
   "language": "python",
   "name": "python3"
  },
  "language_info": {
   "codemirror_mode": {
    "name": "ipython",
    "version": 3
   },
   "file_extension": ".py",
   "mimetype": "text/x-python",
   "name": "python",
   "nbconvert_exporter": "python",
   "pygments_lexer": "ipython3",
   "version": "3.11.0"
  }
 },
 "nbformat": 4,
 "nbformat_minor": 5
}
