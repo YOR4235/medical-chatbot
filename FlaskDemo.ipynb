{
 "cells": [
  {
   "cell_type": "code",
   "execution_count": 1,
   "id": "88ff31cd-7522-4a3c-961c-b0ab41f6504b",
   "metadata": {},
   "outputs": [
    {
     "name": "stdout",
     "output_type": "stream",
     "text": [
      " * Serving Flask app '__main__'\n",
      " * Debug mode: on\n"
     ]
    },
    {
     "name": "stderr",
     "output_type": "stream",
     "text": [
      "WARNING: This is a development server. Do not use it in a production deployment. Use a production WSGI server instead.\n",
      " * Running on http://127.0.0.1:5000\n",
      "Press CTRL+C to quit\n",
      "127.0.0.1 - - [26/Jan/2025 15:24:36] \"GET / HTTP/1.1\" 200 -\n",
      "127.0.0.1 - - [26/Jan/2025 15:24:45] \"GET /api HTTP/1.1\" 200 -\n"
     ]
    }
   ],
   "source": [
    "from flask import Flask, jsonify\n",
    "\n",
    "# Create a Flask app\n",
    "app = Flask(__name__)\n",
    "\n",
    "@app.route('/')\n",
    "def hello():\n",
    "    print(\"called this functionn hello\")\n",
    "    return \"Hello, World!\"\n",
    "\n",
    "@app.route('/api')\n",
    "def api():\n",
    "    return jsonify({\"message\": \"Hello from the API!\"})\n",
    "\n",
    "if __name__ == '__main__':\n",
    "    app.run(debug=True, use_reloader=False)\n"
   ]
  },
  {
   "cell_type": "code",
   "execution_count": 1,
   "id": "0bad3941-5716-46ce-82dc-f5fa7550fe31",
   "metadata": {},
   "outputs": [
    {
     "name": "stderr",
     "output_type": "stream",
     "text": [
      "C:\\Users\\2066016\\AppData\\Local\\Programs\\Python\\Python313\\Lib\\site-packages\\tqdm\\auto.py:21: TqdmWarning: IProgress not found. Please update jupyter and ipywidgets. See https://ipywidgets.readthedocs.io/en/stable/user_install.html\n",
      "  from .autonotebook import tqdm as notebook_tqdm\n",
      "No sentence-transformers model found with name sentence-transformers/all-MiniLM-L6-v2. Creating a new one with mean pooling.\n"
     ]
    },
    {
     "name": "stdout",
     "output_type": "stream",
     "text": [
      "An error occurred: (MaxRetryError(\"HTTPSConnectionPool(host='huggingface.co', port=443): Max retries exceeded with url: /sentence-transformers/all-MiniLM-L6-v2/resolve/main/adapter_config.json (Caused by SSLError(SSLCertVerificationError(1, '[SSL: CERTIFICATE_VERIFY_FAILED] certificate verify failed: self-signed certificate in certificate chain (_ssl.c:1018)')))\"), '(Request ID: 245a47f3-772b-496d-8ce1-4f54a664b85b)')\n",
      "Failed to load the model.\n"
     ]
    }
   ],
   "source": [
    "import os\n",
    "from sentence_transformers import SentenceTransformer\n",
    "\n",
    "def download_hugging_face_embeddings():\n",
    "    try:\n",
    "        # Set environment variable to bypass SSL verification (not recommended for production)\n",
    "        os.environ['CURL_CA_BUNDLE'] = ''\n",
    "        \n",
    "        # Load the model\n",
    "        model_name = \"sentence-transformers/all-MiniLM-L6-v2\"\n",
    "        embeddings = SentenceTransformer(model_name)\n",
    "        \n",
    "        return embeddings\n",
    "    except Exception as e:\n",
    "        print(f\"An error occurred: {e}\")\n",
    "        return None\n",
    "\n",
    "# Example usage\n",
    "embeddings = download_hugging_face_embeddings()\n",
    "if embeddings:\n",
    "    print(\"Model loaded successfully!\")\n",
    "else:\n",
    "    print(\"Failed to load the model.\")"
   ]
  },
  {
   "cell_type": "code",
   "execution_count": null,
   "id": "295e6dc6-6c4b-46ef-836b-ea18d2825b5b",
   "metadata": {},
   "outputs": [],
   "source": []
  }
 ],
 "metadata": {
  "kernelspec": {
   "display_name": "Python 3 (ipykernel)",
   "language": "python",
   "name": "python3"
  },
  "language_info": {
   "codemirror_mode": {
    "name": "ipython",
    "version": 3
   },
   "file_extension": ".py",
   "mimetype": "text/x-python",
   "name": "python",
   "nbconvert_exporter": "python",
   "pygments_lexer": "ipython3",
   "version": "3.13.1"
  }
 },
 "nbformat": 4,
 "nbformat_minor": 5
}
